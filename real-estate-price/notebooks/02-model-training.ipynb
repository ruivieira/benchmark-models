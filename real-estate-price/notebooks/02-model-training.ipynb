{
 "cells": [
  {
   "cell_type": "code",
   "execution_count": 4,
   "id": "quality-belarus",
   "metadata": {},
   "outputs": [],
   "source": [
    "import pandas as pd\n",
    "from sklearn.ensemble import RandomForestRegressor\n",
    "\n",
    "import warnings\n",
    "warnings.filterwarnings('ignore')"
   ]
  },
  {
   "cell_type": "code",
   "execution_count": 5,
   "id": "lesser-pierce",
   "metadata": {},
   "outputs": [],
   "source": [
    "df = pd.read_csv(\"../data/raw/data.zip\")"
   ]
  },
  {
   "cell_type": "code",
   "execution_count": 6,
   "id": "based-battle",
   "metadata": {},
   "outputs": [],
   "source": [
    "df = df[['CRIM', 'ZN', 'INDUS', 'NOX', 'RM', 'AGE', 'DIS', 'RAD', 'PTRATIO', 'MEDV']]"
   ]
  },
  {
   "cell_type": "code",
   "execution_count": 7,
   "id": "infinite-macro",
   "metadata": {},
   "outputs": [
    {
     "data": {
      "text/html": [
       "<div>\n",
       "<style scoped>\n",
       "    .dataframe tbody tr th:only-of-type {\n",
       "        vertical-align: middle;\n",
       "    }\n",
       "\n",
       "    .dataframe tbody tr th {\n",
       "        vertical-align: top;\n",
       "    }\n",
       "\n",
       "    .dataframe thead th {\n",
       "        text-align: right;\n",
       "    }\n",
       "</style>\n",
       "<table border=\"1\" class=\"dataframe\">\n",
       "  <thead>\n",
       "    <tr style=\"text-align: right;\">\n",
       "      <th></th>\n",
       "      <th>CRIM</th>\n",
       "      <th>ZN</th>\n",
       "      <th>INDUS</th>\n",
       "      <th>NOX</th>\n",
       "      <th>RM</th>\n",
       "      <th>AGE</th>\n",
       "      <th>DIS</th>\n",
       "      <th>RAD</th>\n",
       "      <th>PTRATIO</th>\n",
       "      <th>MEDV</th>\n",
       "    </tr>\n",
       "  </thead>\n",
       "  <tbody>\n",
       "    <tr>\n",
       "      <th>0</th>\n",
       "      <td>0.00632</td>\n",
       "      <td>18.0</td>\n",
       "      <td>2.31</td>\n",
       "      <td>0.538</td>\n",
       "      <td>6.575</td>\n",
       "      <td>65.2</td>\n",
       "      <td>4.0900</td>\n",
       "      <td>1</td>\n",
       "      <td>15.3</td>\n",
       "      <td>24.0</td>\n",
       "    </tr>\n",
       "    <tr>\n",
       "      <th>1</th>\n",
       "      <td>0.02731</td>\n",
       "      <td>0.0</td>\n",
       "      <td>7.07</td>\n",
       "      <td>0.469</td>\n",
       "      <td>6.421</td>\n",
       "      <td>78.9</td>\n",
       "      <td>4.9671</td>\n",
       "      <td>2</td>\n",
       "      <td>17.8</td>\n",
       "      <td>21.6</td>\n",
       "    </tr>\n",
       "    <tr>\n",
       "      <th>2</th>\n",
       "      <td>0.02729</td>\n",
       "      <td>0.0</td>\n",
       "      <td>7.07</td>\n",
       "      <td>0.469</td>\n",
       "      <td>7.185</td>\n",
       "      <td>61.1</td>\n",
       "      <td>4.9671</td>\n",
       "      <td>2</td>\n",
       "      <td>17.8</td>\n",
       "      <td>34.7</td>\n",
       "    </tr>\n",
       "    <tr>\n",
       "      <th>3</th>\n",
       "      <td>0.03237</td>\n",
       "      <td>0.0</td>\n",
       "      <td>2.18</td>\n",
       "      <td>0.458</td>\n",
       "      <td>6.998</td>\n",
       "      <td>45.8</td>\n",
       "      <td>6.0622</td>\n",
       "      <td>3</td>\n",
       "      <td>18.7</td>\n",
       "      <td>33.4</td>\n",
       "    </tr>\n",
       "    <tr>\n",
       "      <th>4</th>\n",
       "      <td>0.06905</td>\n",
       "      <td>0.0</td>\n",
       "      <td>2.18</td>\n",
       "      <td>0.458</td>\n",
       "      <td>7.147</td>\n",
       "      <td>54.2</td>\n",
       "      <td>6.0622</td>\n",
       "      <td>3</td>\n",
       "      <td>18.7</td>\n",
       "      <td>36.2</td>\n",
       "    </tr>\n",
       "  </tbody>\n",
       "</table>\n",
       "</div>"
      ],
      "text/plain": [
       "      CRIM    ZN  INDUS    NOX     RM   AGE     DIS  RAD  PTRATIO  MEDV\n",
       "0  0.00632  18.0   2.31  0.538  6.575  65.2  4.0900    1     15.3  24.0\n",
       "1  0.02731   0.0   7.07  0.469  6.421  78.9  4.9671    2     17.8  21.6\n",
       "2  0.02729   0.0   7.07  0.469  7.185  61.1  4.9671    2     17.8  34.7\n",
       "3  0.03237   0.0   2.18  0.458  6.998  45.8  6.0622    3     18.7  33.4\n",
       "4  0.06905   0.0   2.18  0.458  7.147  54.2  6.0622    3     18.7  36.2"
      ]
     },
     "execution_count": 7,
     "metadata": {},
     "output_type": "execute_result"
    }
   ],
   "source": [
    "df = df.dropna()\n",
    "df.head()"
   ]
  },
  {
   "cell_type": "code",
   "execution_count": 8,
   "id": "binding-learning",
   "metadata": {},
   "outputs": [],
   "source": [
    "inputs = df[['CRIM', 'ZN', 'INDUS', 'NOX', 'RM', 'AGE', 'DIS', 'RAD', 'PTRATIO']]"
   ]
  },
  {
   "cell_type": "code",
   "execution_count": 9,
   "id": "rental-russian",
   "metadata": {},
   "outputs": [],
   "source": [
    "outputs = df[['MEDV']]"
   ]
  },
  {
   "cell_type": "code",
   "execution_count": 10,
   "id": "vocal-moment",
   "metadata": {},
   "outputs": [],
   "source": [
    "from sklearn.model_selection import train_test_split\n",
    "\n",
    "X_train, X_test, y_train, y_test = train_test_split(inputs, outputs, test_size=0.4, random_state=23)"
   ]
  },
  {
   "cell_type": "code",
   "execution_count": 11,
   "id": "phantom-timber",
   "metadata": {},
   "outputs": [],
   "source": [
    "rf = RandomForestRegressor(verbose=True, n_jobs=-1)"
   ]
  },
  {
   "cell_type": "code",
   "execution_count": 12,
   "id": "russian-ceiling",
   "metadata": {},
   "outputs": [
    {
     "name": "stderr",
     "output_type": "stream",
     "text": [
      "[Parallel(n_jobs=-1)]: Using backend ThreadingBackend with 12 concurrent workers.\n",
      "[Parallel(n_jobs=-1)]: Done  26 tasks      | elapsed:    0.1s\n",
      "[Parallel(n_jobs=-1)]: Done 100 out of 100 | elapsed:    0.1s finished\n"
     ]
    },
    {
     "data": {
      "text/plain": [
       "RandomForestRegressor(n_jobs=-1, verbose=True)"
      ]
     },
     "execution_count": 12,
     "metadata": {},
     "output_type": "execute_result"
    }
   ],
   "source": [
    "rf.fit(X_train, y_train)"
   ]
  },
  {
   "cell_type": "code",
   "execution_count": 13,
   "id": "earned-proposal",
   "metadata": {},
   "outputs": [
    {
     "name": "stderr",
     "output_type": "stream",
     "text": [
      "[Parallel(n_jobs=12)]: Using backend ThreadingBackend with 12 concurrent workers.\n",
      "[Parallel(n_jobs=12)]: Done  26 tasks      | elapsed:    0.0s\n",
      "[Parallel(n_jobs=12)]: Done 100 out of 100 | elapsed:    0.0s finished\n"
     ]
    },
    {
     "data": {
      "text/plain": [
       "array([24.149, 19.424, 42.898, 19.708, 33.929, 13.1  , 16.295, 29.613,\n",
       "       47.954, 34.672, 21.899, 28.919, 20.895, 23.226, 23.277, 22.709,\n",
       "       48.831, 23.065, 27.032, 22.806, 19.209, 14.366, 23.163, 22.36 ,\n",
       "       13.75 , 35.526, 19.264, 30.42 , 25.066, 23.337, 12.703, 20.938,\n",
       "        8.583, 17.72 , 15.214, 24.565, 21.362, 28.384, 20.953, 35.525,\n",
       "       15.634,  8.951, 15.315, 20.334, 41.618, 18.479, 41.461, 19.532,\n",
       "       14.684, 42.717, 26.492, 12.171, 18.672, 16.564, 20.227, 34.34 ,\n",
       "       11.961, 21.679, 21.425, 21.045, 15.358, 19.683, 14.78 , 48.207,\n",
       "       21.554, 23.432,  8.531, 12.957, 27.08 , 17.307, 18.828, 17.622,\n",
       "       20.713, 16.424, 15.891, 15.311,  8.895, 19.493,  9.715, 20.735,\n",
       "       23.607, 20.038, 19.993,  7.266, 19.902, 29.296, 31.183, 25.466,\n",
       "       47.752, 19.679, 19.595, 20.618, 22.254, 25.713, 26.655, 17.945,\n",
       "       17.837, 19.782, 22.561, 24.163, 10.728, 19.111, 46.316, 21.822,\n",
       "       32.688, 18.093, 29.54 , 32.819, 12.489, 18.284, 23.488,  9.331,\n",
       "       24.329, 20.641, 31.017, 25.733, 19.502, 19.319, 23.828, 22.252,\n",
       "       31.225, 20.128, 15.128, 20.457, 13.526, 20.256, 16.654, 23.022,\n",
       "       35.934, 17.975, 34.981, 22.511,  8.747, 25.945, 19.13 ,  9.245,\n",
       "       19.583, 17.504, 23.67 , 47.972, 15.353, 25.174, 24.64 , 17.236,\n",
       "       25.911, 28.055, 33.722, 20.421, 10.384, 16.501, 24.624, 41.526,\n",
       "       19.169, 25.247, 20.602, 23.939, 21.516, 21.622, 13.774, 18.524,\n",
       "       19.766, 13.091, 26.232,  8.476, 16.36 , 17.823, 33.819, 16.349,\n",
       "       22.306, 24.231, 34.159, 29.219, 20.333, 22.762, 27.532, 19.099,\n",
       "       18.013, 38.572, 33.274, 28.152, 25.279, 28.375, 17.145, 19.185,\n",
       "       14.656, 28.632, 28.5  , 18.822, 18.963, 20.836, 21.626, 27.83 ,\n",
       "       27.441, 22.428, 22.619, 22.488, 23.949, 16.518, 26.291, 47.5  ,\n",
       "       21.377, 22.211,  8.829])"
      ]
     },
     "execution_count": 13,
     "metadata": {},
     "output_type": "execute_result"
    }
   ],
   "source": [
    "rf.predict(X_test)"
   ]
  },
  {
   "cell_type": "code",
   "execution_count": 14,
   "id": "suspected-luxembourg",
   "metadata": {},
   "outputs": [
    {
     "name": "stdout",
     "output_type": "stream",
     "text": [
      "MSE: 65.36751341711897%\n"
     ]
    },
    {
     "name": "stderr",
     "output_type": "stream",
     "text": [
      "[Parallel(n_jobs=12)]: Using backend ThreadingBackend with 12 concurrent workers.\n",
      "[Parallel(n_jobs=12)]: Done  26 tasks      | elapsed:    0.0s\n",
      "[Parallel(n_jobs=12)]: Done 100 out of 100 | elapsed:    0.0s finished\n"
     ]
    }
   ],
   "source": [
    "MSE = rf.score(X_test, y_test)*100\n",
    "print(f\"MSE: {MSE}%\")"
   ]
  },
  {
   "cell_type": "markdown",
   "id": "widespread-influence",
   "metadata": {},
   "source": [
    "## Export to PMML"
   ]
  },
  {
   "cell_type": "code",
   "execution_count": 17,
   "id": "located-melissa",
   "metadata": {},
   "outputs": [
    {
     "name": "stderr",
     "output_type": "stream",
     "text": [
      "[Parallel(n_jobs=-1)]: Using backend ThreadingBackend with 12 concurrent workers.\n",
      "[Parallel(n_jobs=-1)]: Done  26 tasks      | elapsed:    0.0s\n",
      "[Parallel(n_jobs=-1)]: Done 100 out of 100 | elapsed:    0.1s finished\n"
     ]
    },
    {
     "data": {
      "text/plain": [
       "PMMLPipeline(steps=[('classifier', RandomForestRegressor(n_jobs=-1, verbose=True))])"
      ]
     },
     "execution_count": 17,
     "metadata": {},
     "output_type": "execute_result"
    }
   ],
   "source": [
    "from sklearn2pmml import sklearn2pmml\n",
    "from sklearn2pmml.pipeline import PMMLPipeline\n",
    "\n",
    "pipeline = PMMLPipeline([\n",
    "  (\"classifier\", RandomForestRegressor(verbose=True, n_jobs=-1))\n",
    "])\n",
    "pipeline.fit(X_train, y_train)"
   ]
  },
  {
   "cell_type": "code",
   "execution_count": 18,
   "id": "modified-means",
   "metadata": {},
   "outputs": [
    {
     "name": "stderr",
     "output_type": "stream",
     "text": [
      "[Parallel(n_jobs=12)]: Using backend ThreadingBackend with 12 concurrent workers.\n",
      "[Parallel(n_jobs=12)]: Done  26 tasks      | elapsed:    0.0s\n",
      "[Parallel(n_jobs=12)]: Done 100 out of 100 | elapsed:    0.0s finished\n"
     ]
    }
   ],
   "source": [
    "pipeline.verify(X_test.sample(n = 10))"
   ]
  },
  {
   "cell_type": "code",
   "execution_count": 20,
   "id": "exclusive-priority",
   "metadata": {},
   "outputs": [],
   "source": [
    "sklearn2pmml(pipeline, \"/tmp/model.pmml\")"
   ]
  },
  {
   "cell_type": "code",
   "execution_count": null,
   "id": "shaped-clock",
   "metadata": {},
   "outputs": [],
   "source": []
  }
 ],
 "metadata": {
  "kernelspec": {
   "display_name": "benchmark-models",
   "language": "python",
   "name": "benchmark-models"
  },
  "language_info": {
   "codemirror_mode": {
    "name": "ipython",
    "version": 3
   },
   "file_extension": ".py",
   "mimetype": "text/x-python",
   "name": "python",
   "nbconvert_exporter": "python",
   "pygments_lexer": "ipython3",
   "version": "3.9.0"
  }
 },
 "nbformat": 4,
 "nbformat_minor": 5
}
