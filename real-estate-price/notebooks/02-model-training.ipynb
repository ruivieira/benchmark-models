{
 "cells": [
  {
   "cell_type": "code",
   "execution_count": 27,
   "id": "annual-breeding",
   "metadata": {},
   "outputs": [],
   "source": [
    "import pandas as pd\n",
    "from sklearn.ensemble import RandomForestRegressor\n",
    "\n",
    "import warnings\n",
    "warnings.filterwarnings('ignore')"
   ]
  },
  {
   "cell_type": "code",
   "execution_count": 28,
   "id": "perceived-reporter",
   "metadata": {},
   "outputs": [],
   "source": [
    "df = pd.read_csv(\"../data/raw/data.zip\")"
   ]
  },
  {
   "cell_type": "code",
   "execution_count": 29,
   "id": "formal-honduras",
   "metadata": {},
   "outputs": [],
   "source": [
    "df = df[['CRIM', 'ZN', 'INDUS', 'NOX', 'RM', 'AGE', 'DIS', 'RAD', 'PTRATIO', 'MEDV']]"
   ]
  },
  {
   "cell_type": "code",
   "execution_count": 30,
   "id": "iraqi-insulin",
   "metadata": {},
   "outputs": [
    {
     "data": {
      "text/html": [
       "<div>\n",
       "<style scoped>\n",
       "    .dataframe tbody tr th:only-of-type {\n",
       "        vertical-align: middle;\n",
       "    }\n",
       "\n",
       "    .dataframe tbody tr th {\n",
       "        vertical-align: top;\n",
       "    }\n",
       "\n",
       "    .dataframe thead th {\n",
       "        text-align: right;\n",
       "    }\n",
       "</style>\n",
       "<table border=\"1\" class=\"dataframe\">\n",
       "  <thead>\n",
       "    <tr style=\"text-align: right;\">\n",
       "      <th></th>\n",
       "      <th>CRIM</th>\n",
       "      <th>ZN</th>\n",
       "      <th>INDUS</th>\n",
       "      <th>NOX</th>\n",
       "      <th>RM</th>\n",
       "      <th>AGE</th>\n",
       "      <th>DIS</th>\n",
       "      <th>RAD</th>\n",
       "      <th>PTRATIO</th>\n",
       "      <th>MEDV</th>\n",
       "    </tr>\n",
       "  </thead>\n",
       "  <tbody>\n",
       "    <tr>\n",
       "      <th>0</th>\n",
       "      <td>0.00632</td>\n",
       "      <td>18.0</td>\n",
       "      <td>2.31</td>\n",
       "      <td>0.538</td>\n",
       "      <td>6.575</td>\n",
       "      <td>65.2</td>\n",
       "      <td>4.0900</td>\n",
       "      <td>1</td>\n",
       "      <td>15.3</td>\n",
       "      <td>24.0</td>\n",
       "    </tr>\n",
       "    <tr>\n",
       "      <th>1</th>\n",
       "      <td>0.02731</td>\n",
       "      <td>0.0</td>\n",
       "      <td>7.07</td>\n",
       "      <td>0.469</td>\n",
       "      <td>6.421</td>\n",
       "      <td>78.9</td>\n",
       "      <td>4.9671</td>\n",
       "      <td>2</td>\n",
       "      <td>17.8</td>\n",
       "      <td>21.6</td>\n",
       "    </tr>\n",
       "    <tr>\n",
       "      <th>2</th>\n",
       "      <td>0.02729</td>\n",
       "      <td>0.0</td>\n",
       "      <td>7.07</td>\n",
       "      <td>0.469</td>\n",
       "      <td>7.185</td>\n",
       "      <td>61.1</td>\n",
       "      <td>4.9671</td>\n",
       "      <td>2</td>\n",
       "      <td>17.8</td>\n",
       "      <td>34.7</td>\n",
       "    </tr>\n",
       "    <tr>\n",
       "      <th>3</th>\n",
       "      <td>0.03237</td>\n",
       "      <td>0.0</td>\n",
       "      <td>2.18</td>\n",
       "      <td>0.458</td>\n",
       "      <td>6.998</td>\n",
       "      <td>45.8</td>\n",
       "      <td>6.0622</td>\n",
       "      <td>3</td>\n",
       "      <td>18.7</td>\n",
       "      <td>33.4</td>\n",
       "    </tr>\n",
       "    <tr>\n",
       "      <th>4</th>\n",
       "      <td>0.06905</td>\n",
       "      <td>0.0</td>\n",
       "      <td>2.18</td>\n",
       "      <td>0.458</td>\n",
       "      <td>7.147</td>\n",
       "      <td>54.2</td>\n",
       "      <td>6.0622</td>\n",
       "      <td>3</td>\n",
       "      <td>18.7</td>\n",
       "      <td>36.2</td>\n",
       "    </tr>\n",
       "  </tbody>\n",
       "</table>\n",
       "</div>"
      ],
      "text/plain": [
       "      CRIM    ZN  INDUS    NOX     RM   AGE     DIS  RAD  PTRATIO  MEDV\n",
       "0  0.00632  18.0   2.31  0.538  6.575  65.2  4.0900    1     15.3  24.0\n",
       "1  0.02731   0.0   7.07  0.469  6.421  78.9  4.9671    2     17.8  21.6\n",
       "2  0.02729   0.0   7.07  0.469  7.185  61.1  4.9671    2     17.8  34.7\n",
       "3  0.03237   0.0   2.18  0.458  6.998  45.8  6.0622    3     18.7  33.4\n",
       "4  0.06905   0.0   2.18  0.458  7.147  54.2  6.0622    3     18.7  36.2"
      ]
     },
     "execution_count": 30,
     "metadata": {},
     "output_type": "execute_result"
    }
   ],
   "source": [
    "df = df.dropna()\n",
    "df.head()"
   ]
  },
  {
   "cell_type": "code",
   "execution_count": 31,
   "id": "painted-survival",
   "metadata": {},
   "outputs": [],
   "source": [
    "inputs = df[['CRIM', 'ZN', 'INDUS', 'NOX', 'RM', 'AGE', 'DIS', 'RAD', 'PTRATIO']]"
   ]
  },
  {
   "cell_type": "code",
   "execution_count": 32,
   "id": "patent-digit",
   "metadata": {},
   "outputs": [],
   "source": [
    "outputs = df[['MEDV']]"
   ]
  },
  {
   "cell_type": "code",
   "execution_count": 33,
   "id": "postal-michigan",
   "metadata": {},
   "outputs": [],
   "source": [
    "from sklearn.model_selection import train_test_split\n",
    "\n",
    "X_train, X_test, y_train, y_test = train_test_split(inputs, outputs, test_size=0.4, random_state=23)"
   ]
  },
  {
   "cell_type": "code",
   "execution_count": 34,
   "id": "processed-governor",
   "metadata": {},
   "outputs": [],
   "source": [
    "rf = RandomForestRegressor(verbose=True, n_jobs=-1)"
   ]
  },
  {
   "cell_type": "code",
   "execution_count": 35,
   "id": "southern-workshop",
   "metadata": {},
   "outputs": [
    {
     "name": "stderr",
     "output_type": "stream",
     "text": [
      "[Parallel(n_jobs=-1)]: Using backend ThreadingBackend with 12 concurrent workers.\n",
      "[Parallel(n_jobs=-1)]: Done  26 tasks      | elapsed:    0.1s\n",
      "[Parallel(n_jobs=-1)]: Done 100 out of 100 | elapsed:    0.1s finished\n"
     ]
    },
    {
     "data": {
      "text/plain": [
       "RandomForestRegressor(n_jobs=-1, verbose=True)"
      ]
     },
     "execution_count": 35,
     "metadata": {},
     "output_type": "execute_result"
    }
   ],
   "source": [
    "rf.fit(X_train, y_train)"
   ]
  },
  {
   "cell_type": "code",
   "execution_count": 37,
   "id": "phantom-aurora",
   "metadata": {},
   "outputs": [
    {
     "name": "stderr",
     "output_type": "stream",
     "text": [
      "[Parallel(n_jobs=12)]: Using backend ThreadingBackend with 12 concurrent workers.\n",
      "[Parallel(n_jobs=12)]: Done  26 tasks      | elapsed:    0.0s\n",
      "[Parallel(n_jobs=12)]: Done 100 out of 100 | elapsed:    0.0s finished\n"
     ]
    },
    {
     "data": {
      "text/plain": [
       "array([23.982, 19.547, 43.589, 20.041, 33.786, 12.987, 16.433, 29.911,\n",
       "       48.022, 34.393, 21.79 , 28.745, 20.59 , 22.77 , 23.282, 22.572,\n",
       "       48.507, 22.968, 27.229, 22.109, 18.649, 14.898, 23.087, 22.397,\n",
       "       15.09 , 35.573, 19.073, 30.049, 24.98 , 22.37 , 12.25 , 21.352,\n",
       "        8.067, 18.255, 16.168, 25.424, 20.816, 28.55 , 21.196, 34.526,\n",
       "       15.829,  8.953, 14.843, 20.263, 41.124, 18.608, 41.833, 19.742,\n",
       "       14.304, 43.745, 27.04 , 12.172, 18.588, 17.687, 20.204, 34.067,\n",
       "       12.111, 21.445, 21.572, 21.329, 15.524, 19.636, 14.391, 48.174,\n",
       "       21.431, 23.21 ,  8.352, 12.892, 26.828, 17.251, 19.222, 17.291,\n",
       "       21.064, 16.213, 15.703, 14.986,  8.854, 19.484, 10.378, 20.754,\n",
       "       23.427, 19.817, 19.836,  6.947, 20.328, 28.783, 30.852, 25.091,\n",
       "       47.5  , 19.213, 19.383, 20.347, 22.369, 26.535, 26.648, 17.166,\n",
       "       18.331, 19.954, 23.244, 24.09 , 10.471, 19.14 , 47.434, 22.437,\n",
       "       32.942, 17.913, 28.984, 32.941, 12.437, 18.917, 22.066,  9.788,\n",
       "       24.131, 21.037, 30.521, 25.811, 19.802, 19.335, 23.946, 21.462,\n",
       "       31.274, 19.419, 14.776, 20.041, 13.194, 23.367, 16.22 , 22.872,\n",
       "       35.53 , 17.382, 34.608, 22.41 ,  8.902, 26.312, 19.496,  9.075,\n",
       "       19.263, 16.923, 23.811, 47.881, 15.394, 25.344, 24.514, 17.919,\n",
       "       26.108, 27.739, 33.789, 19.916, 10.177, 15.771, 24.636, 41.314,\n",
       "       20.19 , 25.094, 20.816, 23.755, 20.734, 20.847, 15.619, 17.845,\n",
       "       19.522, 12.861, 25.442,  8.42 , 15.688, 18.349, 34.083, 18.131,\n",
       "       22.197, 23.948, 34.88 , 29.281, 20.196, 23.169, 27.946, 19.487,\n",
       "       17.994, 37.925, 33.14 , 27.899, 27.057, 28.663, 16.191, 19.043,\n",
       "       14.466, 28.376, 28.685, 18.892, 18.956, 21.135, 21.421, 27.87 ,\n",
       "       27.889, 22.675, 22.326, 22.072, 24.078, 16.652, 28.753, 47.064,\n",
       "       21.2  , 21.941,  9.107])"
      ]
     },
     "execution_count": 37,
     "metadata": {},
     "output_type": "execute_result"
    }
   ],
   "source": [
    "rf.predict(X_test)"
   ]
  },
  {
   "cell_type": "code",
   "execution_count": 39,
   "id": "protected-latvia",
   "metadata": {},
   "outputs": [
    {
     "name": "stdout",
     "output_type": "stream",
     "text": [
      "MSE: 65.26436932514251%\n"
     ]
    },
    {
     "name": "stderr",
     "output_type": "stream",
     "text": [
      "[Parallel(n_jobs=12)]: Using backend ThreadingBackend with 12 concurrent workers.\n",
      "[Parallel(n_jobs=12)]: Done  26 tasks      | elapsed:    0.0s\n",
      "[Parallel(n_jobs=12)]: Done 100 out of 100 | elapsed:    0.0s finished\n"
     ]
    }
   ],
   "source": [
    "MSE = rf.score(X_test, y_test)*100\n",
    "print(f\"MSE: {MSE}%\")"
   ]
  },
  {
   "cell_type": "code",
   "execution_count": null,
   "id": "therapeutic-calculation",
   "metadata": {},
   "outputs": [],
   "source": []
  }
 ],
 "metadata": {
  "kernelspec": {
   "display_name": "benchmark-models",
   "language": "python",
   "name": "benchmark-models"
  },
  "language_info": {
   "codemirror_mode": {
    "name": "ipython",
    "version": 3
   },
   "file_extension": ".py",
   "mimetype": "text/x-python",
   "name": "python",
   "nbconvert_exporter": "python",
   "pygments_lexer": "ipython3",
   "version": "3.9.0"
  }
 },
 "nbformat": 4,
 "nbformat_minor": 5
}
