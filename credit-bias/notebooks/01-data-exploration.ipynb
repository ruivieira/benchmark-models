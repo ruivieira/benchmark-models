{
 "cells": [
  {
   "cell_type": "code",
   "execution_count": 20,
   "metadata": {
    "collapsed": true
   },
   "outputs": [
    {
     "name": "stderr",
     "output_type": "stream",
     "text": [
      "/Users/rui/Sync/code/ml/benchmark-models/venv/lib/python3.9/site-packages/IPython/core/interactiveshell.py:3146: DtypeWarning: Columns (34,38,80,82,83,89,90) have mixed types.Specify dtype option on import or set low_memory=False.\n",
      "  has_raised = await self.run_ast_nodes(code_ast.body, cell_name,\n"
     ]
    },
    {
     "data": {
      "text/plain": "  ReportAsOfEOD                                LoanId  LoanNumber  \\\n0    2021-06-25  66AE108B-532B-4BB3-BAB7-0019A46412C1      483449   \n1    2021-06-25  D152382E-A50D-46ED-8FF2-0053E0C86A70      378148   \n2    2021-06-25  87342E13-66CB-483F-833A-007953E50C78      451831   \n3    2021-06-25  87227056-6BF9-410C-98D1-008F788E122A      349381   \n4    2021-06-25  2DDE6336-E466-4624-A337-00A0ED1A1468      443082   \n\n           ListedOnUTC     BiddingStartedOn  BidsPortfolioManager  BidsApi  \\\n0  2016-03-23 16:07:19  2016-03-23 16:07:19                   970     1150   \n1  2015-06-25 11:02:28  2015-06-25 11:02:28                  1295        0   \n2  2016-01-14 10:00:21  2016-01-14 10:00:21                  2700      565   \n3  2015-03-24 15:55:44  2015-03-24 15:55:44                  1115        0   \n4  2015-12-17 10:12:00  2015-12-17 10:12:00                   305        0   \n\n   BidsManual   UserName  NewCreditCustomer  ...  \\\n0         5.0   BO965519              False  ...   \n1      1705.0  BOA9K172A              False  ...   \n2      5835.0  BO7971663               True  ...   \n3       385.0  BO76151K3               True  ...   \n4       785.0  BOK423A63               True  ...   \n\n  PreviousEarlyRepaymentsCountBeforeLoan GracePeriodStart GracePeriodEnd  \\\n0                                    0.0       2019-10-28     2020-01-27   \n1                                    1.0              NaN            NaN   \n2                                    0.0              NaN            NaN   \n3                                    1.0              NaN            NaN   \n4                                    0.0              NaN            NaN   \n\n  NextPaymentDate NextPaymentNr NrOfScheduledPayments  ReScheduledOn  \\\n0             NaN           NaN                   NaN            NaN   \n1             NaN           NaN                   NaN            NaN   \n2             NaN           NaN                   NaN            NaN   \n3             NaN           NaN                   NaN            NaN   \n4             NaN           NaN                   NaN            NaN   \n\n   PrincipalDebtServicingCost  InterestAndPenaltyDebtServicingCost  \\\n0                        0.00                                51.73   \n1                        0.00                                47.08   \n2                      259.67                              1659.60   \n3                        0.00                               215.05   \n4                        0.00                                 0.00   \n\n   ActiveLateLastPaymentCategory  \n0                           8-15  \n1                           180+  \n2                           180+  \n3                           180+  \n4                           180+  \n\n[5 rows x 112 columns]",
      "text/html": "<div>\n<style scoped>\n    .dataframe tbody tr th:only-of-type {\n        vertical-align: middle;\n    }\n\n    .dataframe tbody tr th {\n        vertical-align: top;\n    }\n\n    .dataframe thead th {\n        text-align: right;\n    }\n</style>\n<table border=\"1\" class=\"dataframe\">\n  <thead>\n    <tr style=\"text-align: right;\">\n      <th></th>\n      <th>ReportAsOfEOD</th>\n      <th>LoanId</th>\n      <th>LoanNumber</th>\n      <th>ListedOnUTC</th>\n      <th>BiddingStartedOn</th>\n      <th>BidsPortfolioManager</th>\n      <th>BidsApi</th>\n      <th>BidsManual</th>\n      <th>UserName</th>\n      <th>NewCreditCustomer</th>\n      <th>...</th>\n      <th>PreviousEarlyRepaymentsCountBeforeLoan</th>\n      <th>GracePeriodStart</th>\n      <th>GracePeriodEnd</th>\n      <th>NextPaymentDate</th>\n      <th>NextPaymentNr</th>\n      <th>NrOfScheduledPayments</th>\n      <th>ReScheduledOn</th>\n      <th>PrincipalDebtServicingCost</th>\n      <th>InterestAndPenaltyDebtServicingCost</th>\n      <th>ActiveLateLastPaymentCategory</th>\n    </tr>\n  </thead>\n  <tbody>\n    <tr>\n      <th>0</th>\n      <td>2021-06-25</td>\n      <td>66AE108B-532B-4BB3-BAB7-0019A46412C1</td>\n      <td>483449</td>\n      <td>2016-03-23 16:07:19</td>\n      <td>2016-03-23 16:07:19</td>\n      <td>970</td>\n      <td>1150</td>\n      <td>5.0</td>\n      <td>BO965519</td>\n      <td>False</td>\n      <td>...</td>\n      <td>0.0</td>\n      <td>2019-10-28</td>\n      <td>2020-01-27</td>\n      <td>NaN</td>\n      <td>NaN</td>\n      <td>NaN</td>\n      <td>NaN</td>\n      <td>0.00</td>\n      <td>51.73</td>\n      <td>8-15</td>\n    </tr>\n    <tr>\n      <th>1</th>\n      <td>2021-06-25</td>\n      <td>D152382E-A50D-46ED-8FF2-0053E0C86A70</td>\n      <td>378148</td>\n      <td>2015-06-25 11:02:28</td>\n      <td>2015-06-25 11:02:28</td>\n      <td>1295</td>\n      <td>0</td>\n      <td>1705.0</td>\n      <td>BOA9K172A</td>\n      <td>False</td>\n      <td>...</td>\n      <td>1.0</td>\n      <td>NaN</td>\n      <td>NaN</td>\n      <td>NaN</td>\n      <td>NaN</td>\n      <td>NaN</td>\n      <td>NaN</td>\n      <td>0.00</td>\n      <td>47.08</td>\n      <td>180+</td>\n    </tr>\n    <tr>\n      <th>2</th>\n      <td>2021-06-25</td>\n      <td>87342E13-66CB-483F-833A-007953E50C78</td>\n      <td>451831</td>\n      <td>2016-01-14 10:00:21</td>\n      <td>2016-01-14 10:00:21</td>\n      <td>2700</td>\n      <td>565</td>\n      <td>5835.0</td>\n      <td>BO7971663</td>\n      <td>True</td>\n      <td>...</td>\n      <td>0.0</td>\n      <td>NaN</td>\n      <td>NaN</td>\n      <td>NaN</td>\n      <td>NaN</td>\n      <td>NaN</td>\n      <td>NaN</td>\n      <td>259.67</td>\n      <td>1659.60</td>\n      <td>180+</td>\n    </tr>\n    <tr>\n      <th>3</th>\n      <td>2021-06-25</td>\n      <td>87227056-6BF9-410C-98D1-008F788E122A</td>\n      <td>349381</td>\n      <td>2015-03-24 15:55:44</td>\n      <td>2015-03-24 15:55:44</td>\n      <td>1115</td>\n      <td>0</td>\n      <td>385.0</td>\n      <td>BO76151K3</td>\n      <td>True</td>\n      <td>...</td>\n      <td>1.0</td>\n      <td>NaN</td>\n      <td>NaN</td>\n      <td>NaN</td>\n      <td>NaN</td>\n      <td>NaN</td>\n      <td>NaN</td>\n      <td>0.00</td>\n      <td>215.05</td>\n      <td>180+</td>\n    </tr>\n    <tr>\n      <th>4</th>\n      <td>2021-06-25</td>\n      <td>2DDE6336-E466-4624-A337-00A0ED1A1468</td>\n      <td>443082</td>\n      <td>2015-12-17 10:12:00</td>\n      <td>2015-12-17 10:12:00</td>\n      <td>305</td>\n      <td>0</td>\n      <td>785.0</td>\n      <td>BOK423A63</td>\n      <td>True</td>\n      <td>...</td>\n      <td>0.0</td>\n      <td>NaN</td>\n      <td>NaN</td>\n      <td>NaN</td>\n      <td>NaN</td>\n      <td>NaN</td>\n      <td>NaN</td>\n      <td>0.00</td>\n      <td>0.00</td>\n      <td>180+</td>\n    </tr>\n  </tbody>\n</table>\n<p>5 rows × 112 columns</p>\n</div>"
     },
     "execution_count": 20,
     "metadata": {},
     "output_type": "execute_result"
    }
   ],
   "source": [
    "import pandas as pd\n",
    "\n",
    "df = pd.read_csv(\"../data/raw/LoanData.zip\")\n",
    "\n",
    "df.head()"
   ]
  },
  {
   "cell_type": "code",
   "execution_count": 21,
   "outputs": [
    {
     "name": "stdout",
     "output_type": "stream",
     "text": [
      "['ReportAsOfEOD', 'LoanId', 'LoanNumber', 'ListedOnUTC', 'BiddingStartedOn', 'BidsPortfolioManager', 'BidsApi', 'BidsManual', 'UserName', 'NewCreditCustomer', 'LoanApplicationStartedDate', 'LoanDate', 'ContractEndDate', 'FirstPaymentDate', 'MaturityDate_Original', 'MaturityDate_Last', 'ApplicationSignedHour', 'ApplicationSignedWeekday', 'VerificationType', 'LanguageCode', 'Age', 'DateOfBirth', 'Gender', 'Country', 'AppliedAmount', 'Amount', 'Interest', 'LoanDuration', 'MonthlyPayment', 'County', 'City', 'UseOfLoan', 'Education', 'MaritalStatus', 'NrOfDependants', 'EmploymentStatus', 'EmploymentDurationCurrentEmployer', 'EmploymentPosition', 'WorkExperience', 'OccupationArea', 'HomeOwnershipType', 'IncomeFromPrincipalEmployer', 'IncomeFromPension', 'IncomeFromFamilyAllowance', 'IncomeFromSocialWelfare', 'IncomeFromLeavePay', 'IncomeFromChildSupport', 'IncomeOther', 'IncomeTotal', 'ExistingLiabilities', 'LiabilitiesTotal', 'RefinanceLiabilities', 'DebtToIncome', 'FreeCash', 'MonthlyPaymentDay', 'ActiveScheduleFirstPaymentReached', 'PlannedPrincipalTillDate', 'PlannedInterestTillDate', 'LastPaymentOn', 'CurrentDebtDaysPrimary', 'DebtOccuredOn', 'CurrentDebtDaysSecondary', 'DebtOccuredOnForSecondary', 'ExpectedLoss', 'LossGivenDefault', 'ExpectedReturn', 'ProbabilityOfDefault', 'DefaultDate', 'PrincipalOverdueBySchedule', 'PlannedPrincipalPostDefault', 'PlannedInterestPostDefault', 'EAD1', 'EAD2', 'PrincipalRecovery', 'InterestRecovery', 'RecoveryStage', 'StageActiveSince', 'ModelVersion', 'Rating', 'EL_V0', 'Rating_V0', 'EL_V1', 'Rating_V1', 'Rating_V2', 'Status', 'Restructured', 'ActiveLateCategory', 'WorseLateCategory', 'CreditScoreEsMicroL', 'CreditScoreEsEquifaxRisk', 'CreditScoreFiAsiakasTietoRiskGrade', 'CreditScoreEeMini', 'PrincipalPaymentsMade', 'InterestAndPenaltyPaymentsMade', 'PrincipalWriteOffs', 'InterestAndPenaltyWriteOffs', 'PrincipalBalance', 'InterestAndPenaltyBalance', 'NoOfPreviousLoansBeforeLoan', 'AmountOfPreviousLoansBeforeLoan', 'PreviousRepaymentsBeforeLoan', 'PreviousEarlyRepaymentsBefoleLoan', 'PreviousEarlyRepaymentsCountBeforeLoan', 'GracePeriodStart', 'GracePeriodEnd', 'NextPaymentDate', 'NextPaymentNr', 'NrOfScheduledPayments', 'ReScheduledOn', 'PrincipalDebtServicingCost', 'InterestAndPenaltyDebtServicingCost', 'ActiveLateLastPaymentCategory']\n"
     ]
    }
   ],
   "source": [
    "print(list(df.columns))"
   ],
   "metadata": {
    "collapsed": false,
    "pycharm": {
     "name": "#%%\n"
    }
   }
  },
  {
   "cell_type": "code",
   "execution_count": 22,
   "outputs": [
    {
     "data": {
      "text/plain": "   LoanNumber          ListedOnUTC   UserName  NewCreditCustomer    LoanDate  \\\n0      483449  2016-03-23 16:07:19   BO965519              False  2016-03-23   \n1      378148  2015-06-25 11:02:28  BOA9K172A              False  2015-06-25   \n2      451831  2016-01-14 10:00:21  BO7971663               True  2016-01-19   \n3      349381  2015-03-24 15:55:44  BO76151K3               True  2015-03-27   \n4      443082  2015-12-17 10:12:00  BOK423A63               True  2015-12-22   \n\n  MaturityDate_Original MaturityDate_Last  Age  DateOfBirth  Gender  ...  \\\n0            2021-04-12        2020-06-26   53          NaN     1.0  ...   \n1            2020-07-17        2020-07-17   50          NaN     1.0  ...   \n2            2021-01-20        2021-01-20   44          NaN     0.0  ...   \n3            2020-04-01        2020-04-01   42          NaN     0.0  ...   \n4            2020-01-02        2020-01-02   34          NaN     1.0  ...   \n\n  DebtToIncome  FreeCash  DefaultDate  Status  CreditScoreEeMini  \\\n0        26.29     10.92   2020-01-14    Late             1000.0   \n1        30.58     78.80   2016-06-02    Late             1000.0   \n2        26.71    349.43   2017-12-06  Repaid             1000.0   \n3         7.36    449.47   2016-02-19    Late                NaN   \n4        36.04     95.81   2016-04-18    Late                NaN   \n\n   NoOfPreviousLoansBeforeLoan  AmountOfPreviousLoansBeforeLoan  \\\n0                          1.0                            500.0   \n1                          1.0                           1800.0   \n2                          0.0                              0.0   \n3                          0.0                              0.0   \n4                          0.0                              0.0   \n\n   PreviousRepaymentsBeforeLoan  PreviousEarlyRepaymentsBefoleLoan  \\\n0                        590.95                                0.0   \n1                        445.26                             3000.0   \n2                          0.00                                0.0   \n3                          0.00                             1500.0   \n4                          0.00                                0.0   \n\n  PreviousEarlyRepaymentsCountBeforeLoan  \n0                                    0.0  \n1                                    1.0  \n2                                    0.0  \n3                                    1.0  \n4                                    0.0  \n\n[5 rows x 45 columns]",
      "text/html": "<div>\n<style scoped>\n    .dataframe tbody tr th:only-of-type {\n        vertical-align: middle;\n    }\n\n    .dataframe tbody tr th {\n        vertical-align: top;\n    }\n\n    .dataframe thead th {\n        text-align: right;\n    }\n</style>\n<table border=\"1\" class=\"dataframe\">\n  <thead>\n    <tr style=\"text-align: right;\">\n      <th></th>\n      <th>LoanNumber</th>\n      <th>ListedOnUTC</th>\n      <th>UserName</th>\n      <th>NewCreditCustomer</th>\n      <th>LoanDate</th>\n      <th>MaturityDate_Original</th>\n      <th>MaturityDate_Last</th>\n      <th>Age</th>\n      <th>DateOfBirth</th>\n      <th>Gender</th>\n      <th>...</th>\n      <th>DebtToIncome</th>\n      <th>FreeCash</th>\n      <th>DefaultDate</th>\n      <th>Status</th>\n      <th>CreditScoreEeMini</th>\n      <th>NoOfPreviousLoansBeforeLoan</th>\n      <th>AmountOfPreviousLoansBeforeLoan</th>\n      <th>PreviousRepaymentsBeforeLoan</th>\n      <th>PreviousEarlyRepaymentsBefoleLoan</th>\n      <th>PreviousEarlyRepaymentsCountBeforeLoan</th>\n    </tr>\n  </thead>\n  <tbody>\n    <tr>\n      <th>0</th>\n      <td>483449</td>\n      <td>2016-03-23 16:07:19</td>\n      <td>BO965519</td>\n      <td>False</td>\n      <td>2016-03-23</td>\n      <td>2021-04-12</td>\n      <td>2020-06-26</td>\n      <td>53</td>\n      <td>NaN</td>\n      <td>1.0</td>\n      <td>...</td>\n      <td>26.29</td>\n      <td>10.92</td>\n      <td>2020-01-14</td>\n      <td>Late</td>\n      <td>1000.0</td>\n      <td>1.0</td>\n      <td>500.0</td>\n      <td>590.95</td>\n      <td>0.0</td>\n      <td>0.0</td>\n    </tr>\n    <tr>\n      <th>1</th>\n      <td>378148</td>\n      <td>2015-06-25 11:02:28</td>\n      <td>BOA9K172A</td>\n      <td>False</td>\n      <td>2015-06-25</td>\n      <td>2020-07-17</td>\n      <td>2020-07-17</td>\n      <td>50</td>\n      <td>NaN</td>\n      <td>1.0</td>\n      <td>...</td>\n      <td>30.58</td>\n      <td>78.80</td>\n      <td>2016-06-02</td>\n      <td>Late</td>\n      <td>1000.0</td>\n      <td>1.0</td>\n      <td>1800.0</td>\n      <td>445.26</td>\n      <td>3000.0</td>\n      <td>1.0</td>\n    </tr>\n    <tr>\n      <th>2</th>\n      <td>451831</td>\n      <td>2016-01-14 10:00:21</td>\n      <td>BO7971663</td>\n      <td>True</td>\n      <td>2016-01-19</td>\n      <td>2021-01-20</td>\n      <td>2021-01-20</td>\n      <td>44</td>\n      <td>NaN</td>\n      <td>0.0</td>\n      <td>...</td>\n      <td>26.71</td>\n      <td>349.43</td>\n      <td>2017-12-06</td>\n      <td>Repaid</td>\n      <td>1000.0</td>\n      <td>0.0</td>\n      <td>0.0</td>\n      <td>0.00</td>\n      <td>0.0</td>\n      <td>0.0</td>\n    </tr>\n    <tr>\n      <th>3</th>\n      <td>349381</td>\n      <td>2015-03-24 15:55:44</td>\n      <td>BO76151K3</td>\n      <td>True</td>\n      <td>2015-03-27</td>\n      <td>2020-04-01</td>\n      <td>2020-04-01</td>\n      <td>42</td>\n      <td>NaN</td>\n      <td>0.0</td>\n      <td>...</td>\n      <td>7.36</td>\n      <td>449.47</td>\n      <td>2016-02-19</td>\n      <td>Late</td>\n      <td>NaN</td>\n      <td>0.0</td>\n      <td>0.0</td>\n      <td>0.00</td>\n      <td>1500.0</td>\n      <td>1.0</td>\n    </tr>\n    <tr>\n      <th>4</th>\n      <td>443082</td>\n      <td>2015-12-17 10:12:00</td>\n      <td>BOK423A63</td>\n      <td>True</td>\n      <td>2015-12-22</td>\n      <td>2020-01-02</td>\n      <td>2020-01-02</td>\n      <td>34</td>\n      <td>NaN</td>\n      <td>1.0</td>\n      <td>...</td>\n      <td>36.04</td>\n      <td>95.81</td>\n      <td>2016-04-18</td>\n      <td>Late</td>\n      <td>NaN</td>\n      <td>0.0</td>\n      <td>0.0</td>\n      <td>0.00</td>\n      <td>0.0</td>\n      <td>0.0</td>\n    </tr>\n  </tbody>\n</table>\n<p>5 rows × 45 columns</p>\n</div>"
     },
     "execution_count": 22,
     "metadata": {},
     "output_type": "execute_result"
    }
   ],
   "source": [
    "selected_columns = ['LoanNumber', 'ListedOnUTC', 'UserName', 'NewCreditCustomer',\n",
    "                        'LoanDate', 'MaturityDate_Original', 'MaturityDate_Last',\n",
    "                        'Age', 'DateOfBirth', 'Gender', 'Country', 'AppliedAmount',\n",
    "                        'Amount', 'Interest', 'LoanDuration', 'MonthlyPayment',\n",
    "                        'UseOfLoan', 'Education', 'MaritalStatus',\n",
    "                        'NrOfDependants', 'EmploymentStatus', 'EmploymentDurationCurrentEmployer',\n",
    "                        'WorkExperience', 'OccupationArea', 'HomeOwnershipType',\n",
    "                        'IncomeFromPrincipalEmployer', 'IncomeFromPension', 'IncomeFromFamilyAllowance',\n",
    "                        'IncomeFromSocialWelfare',\n",
    "                        'IncomeFromLeavePay', 'IncomeFromChildSupport', 'IncomeOther',\n",
    "                        'IncomeTotal', 'ExistingLiabilities', 'RefinanceLiabilities', 'DebtToIncome',\n",
    "                        'FreeCash', 'DefaultDate', 'Status',\n",
    "                        'CreditScoreEeMini',\n",
    "                        'NoOfPreviousLoansBeforeLoan', 'AmountOfPreviousLoansBeforeLoan',\n",
    "                        'PreviousRepaymentsBeforeLoan', 'PreviousEarlyRepaymentsBefoleLoan',\n",
    "                        'PreviousEarlyRepaymentsCountBeforeLoan'\n",
    "                        ]\n",
    "\n",
    "df = df[selected_columns]\n",
    "df.head()"
   ],
   "metadata": {
    "collapsed": false,
    "pycharm": {
     "name": "#%%\n"
    }
   }
  },
  {
   "cell_type": "code",
   "execution_count": 23,
   "outputs": [
    {
     "data": {
      "text/plain": "<AxesSubplot:>"
     },
     "execution_count": 23,
     "metadata": {},
     "output_type": "execute_result"
    },
    {
     "data": {
      "text/plain": "<Figure size 432x288 with 1 Axes>",
      "image/png": "[encoded data removed]"
     },
     "metadata": {
      "needs_background": "light"
     },
     "output_type": "display_data"
    }
   ],
   "source": [
    "df.Country.hist()"
   ],
   "metadata": {
    "collapsed": false,
    "pycharm": {
     "name": "#%%\n"
    }
   }
  },
  {
   "cell_type": "markdown",
   "source": [
    "Keep only the `EE` country rows."
   ],
   "metadata": {
    "collapsed": false,
    "pycharm": {
     "name": "#%% md\n"
    }
   }
  },
  {
   "cell_type": "code",
   "execution_count": 24,
   "outputs": [],
   "source": [
    "df = df[(df[\"Country\"] == \"EE\")]"
   ],
   "metadata": {
    "collapsed": false,
    "pycharm": {
     "name": "#%%\n"
    }
   }
  },
  {
   "cell_type": "code",
   "execution_count": 25,
   "outputs": [
    {
     "data": {
      "text/plain": "<AxesSubplot:>"
     },
     "execution_count": 25,
     "metadata": {},
     "output_type": "execute_result"
    },
    {
     "data": {
      "text/plain": "<Figure size 432x288 with 1 Axes>",
      "image/png": "[encoded data removed]"
     },
     "metadata": {
      "needs_background": "light"
     },
     "output_type": "display_data"
    }
   ],
   "source": [
    "df.Status.hist()"
   ],
   "metadata": {
    "collapsed": false,
    "pycharm": {
     "name": "#%%\n"
    }
   }
  },
  {
   "cell_type": "markdown",
   "source": [
    "Keep only the ones with `Current` status."
   ],
   "metadata": {
    "collapsed": false,
    "pycharm": {
     "name": "#%% md\n"
    }
   }
  },
  {
   "cell_type": "code",
   "execution_count": 26,
   "outputs": [],
   "source": [
    "df = df[(df[\"Status\"] == \"Current\")]"
   ],
   "metadata": {
    "collapsed": false,
    "pycharm": {
     "name": "#%%\n"
    }
   }
  },
  {
   "cell_type": "code",
   "execution_count": 27,
   "outputs": [
    {
     "data": {
      "text/plain": "         LoanNumber           Age  DateOfBirth        Gender  AppliedAmount  \\\ncount  4.457900e+04  44579.000000          0.0  44579.000000   44579.000000   \nmean   1.683033e+06     39.918572          NaN      0.422508    2573.198524   \nstd    5.526435e+05     12.140008          NaN      0.494236    2358.746295   \nmin    1.358100e+04     18.000000          NaN      0.000000     500.000000   \n25%    1.099910e+06     30.000000          NaN      0.000000     637.000000   \n50%    1.931517e+06     39.000000          NaN      0.000000    1594.000000   \n75%    2.154482e+06     48.000000          NaN      1.000000    3934.000000   \nmax    2.289642e+06     70.000000          NaN      2.000000   10632.000000   \n\n             Amount      Interest  LoanDuration  MonthlyPayment     UseOfLoan  \\\ncount  44579.000000  44579.000000  44579.000000    44553.000000  44579.000000   \nmean    2501.911348     24.888812     50.097692       90.654202     -0.859126   \nstd     2302.134121     10.848614     13.657476       81.672325      0.918469   \nmin      116.000000      7.290000      6.000000        0.000000     -1.000000   \n25%      635.000000     16.420000     36.000000       25.760000     -1.000000   \n50%     1594.000000     22.170000     60.000000       61.260000     -1.000000   \n75%     3721.000000     33.280000     60.000000      132.730000     -1.000000   \nmax    10632.000000     53.500000     60.000000      936.770000      8.000000   \n\n       ...  ExistingLiabilities  RefinanceLiabilities  DebtToIncome  \\\ncount  ...         44579.000000          44579.000000  44579.000000   \nmean   ...             3.131901              0.019673      1.107728   \nstd    ...             3.325509              0.302892      6.962685   \nmin    ...             0.000000              0.000000      0.000000   \n25%    ...             1.000000              0.000000      0.000000   \n50%    ...             2.000000              0.000000      0.000000   \n75%    ...             4.000000              0.000000      0.000000   \nmax    ...            32.000000             18.000000     70.000000   \n\n           FreeCash  CreditScoreEeMini  NoOfPreviousLoansBeforeLoan  \\\ncount  44579.000000       44535.000000                 44579.000000   \nmean       9.897470         949.985405                     2.565849   \nstd       88.039752         106.005663                     3.202721   \nmin        0.000000         500.000000                     0.000000   \n25%        0.000000        1000.000000                     0.000000   \n50%        0.000000        1000.000000                     1.000000   \n75%        0.000000        1000.000000                     4.000000   \nmax     5778.230000        1000.000000                    26.000000   \n\n       AmountOfPreviousLoansBeforeLoan  PreviousRepaymentsBeforeLoan  \\\ncount                     44579.000000                  29844.000000   \nmean                       4852.456224                   1029.212587   \nstd                        5879.871591                   1703.353032   \nmin                           0.000000                      0.000000   \n25%                           0.000000                    171.750000   \n50%                        2755.000000                    459.125000   \n75%                        7815.000000                   1112.932500   \nmax                       72778.000000                  22843.419200   \n\n       PreviousEarlyRepaymentsBefoleLoan  \\\ncount                        4746.000000   \nmean                          807.174041   \nstd                          2088.615729   \nmin                             0.000000   \n25%                             0.000000   \n50%                             0.000000   \n75%                           530.000000   \nmax                         26791.000000   \n\n       PreviousEarlyRepaymentsCountBeforeLoan  \ncount                            44579.000000  \nmean                                 0.061464  \nstd                                  0.319256  \nmin                                  0.000000  \n25%                                  0.000000  \n50%                                  0.000000  \n75%                                  0.000000  \nmax                                  7.000000  \n\n[8 rows x 33 columns]",
      "text/html": "<div>\n<style scoped>\n    .dataframe tbody tr th:only-of-type {\n        vertical-align: middle;\n    }\n\n    .dataframe tbody tr th {\n        vertical-align: top;\n    }\n\n    .dataframe thead th {\n        text-align: right;\n    }\n</style>\n<table border=\"1\" class=\"dataframe\">\n  <thead>\n    <tr style=\"text-align: right;\">\n      <th></th>\n      <th>LoanNumber</th>\n      <th>Age</th>\n      <th>DateOfBirth</th>\n      <th>Gender</th>\n      <th>AppliedAmount</th>\n      <th>Amount</th>\n      <th>Interest</th>\n      <th>LoanDuration</th>\n      <th>MonthlyPayment</th>\n      <th>UseOfLoan</th>\n      <th>...</th>\n      <th>ExistingLiabilities</th>\n      <th>RefinanceLiabilities</th>\n      <th>DebtToIncome</th>\n      <th>FreeCash</th>\n      <th>CreditScoreEeMini</th>\n      <th>NoOfPreviousLoansBeforeLoan</th>\n      <th>AmountOfPreviousLoansBeforeLoan</th>\n      <th>PreviousRepaymentsBeforeLoan</th>\n      <th>PreviousEarlyRepaymentsBefoleLoan</th>\n      <th>PreviousEarlyRepaymentsCountBeforeLoan</th>\n    </tr>\n  </thead>\n  <tbody>\n    <tr>\n      <th>count</th>\n      <td>4.457900e+04</td>\n      <td>44579.000000</td>\n      <td>0.0</td>\n      <td>44579.000000</td>\n      <td>44579.000000</td>\n      <td>44579.000000</td>\n      <td>44579.000000</td>\n      <td>44579.000000</td>\n      <td>44553.000000</td>\n      <td>44579.000000</td>\n      <td>...</td>\n      <td>44579.000000</td>\n      <td>44579.000000</td>\n      <td>44579.000000</td>\n      <td>44579.000000</td>\n      <td>44535.000000</td>\n      <td>44579.000000</td>\n      <td>44579.000000</td>\n      <td>29844.000000</td>\n      <td>4746.000000</td>\n      <td>44579.000000</td>\n    </tr>\n    <tr>\n      <th>mean</th>\n      <td>1.683033e+06</td>\n      <td>39.918572</td>\n      <td>NaN</td>\n      <td>0.422508</td>\n      <td>2573.198524</td>\n      <td>2501.911348</td>\n      <td>24.888812</td>\n      <td>50.097692</td>\n      <td>90.654202</td>\n      <td>-0.859126</td>\n      <td>...</td>\n      <td>3.131901</td>\n      <td>0.019673</td>\n      <td>1.107728</td>\n      <td>9.897470</td>\n      <td>949.985405</td>\n      <td>2.565849</td>\n      <td>4852.456224</td>\n      <td>1029.212587</td>\n      <td>807.174041</td>\n      <td>0.061464</td>\n    </tr>\n    <tr>\n      <th>std</th>\n      <td>5.526435e+05</td>\n      <td>12.140008</td>\n      <td>NaN</td>\n      <td>0.494236</td>\n      <td>2358.746295</td>\n      <td>2302.134121</td>\n      <td>10.848614</td>\n      <td>13.657476</td>\n      <td>81.672325</td>\n      <td>0.918469</td>\n      <td>...</td>\n      <td>3.325509</td>\n      <td>0.302892</td>\n      <td>6.962685</td>\n      <td>88.039752</td>\n      <td>106.005663</td>\n      <td>3.202721</td>\n      <td>5879.871591</td>\n      <td>1703.353032</td>\n      <td>2088.615729</td>\n      <td>0.319256</td>\n    </tr>\n    <tr>\n      <th>min</th>\n      <td>1.358100e+04</td>\n      <td>18.000000</td>\n      <td>NaN</td>\n      <td>0.000000</td>\n      <td>500.000000</td>\n      <td>116.000000</td>\n      <td>7.290000</td>\n      <td>6.000000</td>\n      <td>0.000000</td>\n      <td>-1.000000</td>\n      <td>...</td>\n      <td>0.000000</td>\n      <td>0.000000</td>\n      <td>0.000000</td>\n      <td>0.000000</td>\n      <td>500.000000</td>\n      <td>0.000000</td>\n      <td>0.000000</td>\n      <td>0.000000</td>\n      <td>0.000000</td>\n      <td>0.000000</td>\n    </tr>\n    <tr>\n      <th>25%</th>\n      <td>1.099910e+06</td>\n      <td>30.000000</td>\n      <td>NaN</td>\n      <td>0.000000</td>\n      <td>637.000000</td>\n      <td>635.000000</td>\n      <td>16.420000</td>\n      <td>36.000000</td>\n      <td>25.760000</td>\n      <td>-1.000000</td>\n      <td>...</td>\n      <td>1.000000</td>\n      <td>0.000000</td>\n      <td>0.000000</td>\n      <td>0.000000</td>\n      <td>1000.000000</td>\n      <td>0.000000</td>\n      <td>0.000000</td>\n      <td>171.750000</td>\n      <td>0.000000</td>\n      <td>0.000000</td>\n    </tr>\n    <tr>\n      <th>50%</th>\n      <td>1.931517e+06</td>\n      <td>39.000000</td>\n      <td>NaN</td>\n      <td>0.000000</td>\n      <td>1594.000000</td>\n      <td>1594.000000</td>\n      <td>22.170000</td>\n      <td>60.000000</td>\n      <td>61.260000</td>\n      <td>-1.000000</td>\n      <td>...</td>\n      <td>2.000000</td>\n      <td>0.000000</td>\n      <td>0.000000</td>\n      <td>0.000000</td>\n      <td>1000.000000</td>\n      <td>1.000000</td>\n      <td>2755.000000</td>\n      <td>459.125000</td>\n      <td>0.000000</td>\n      <td>0.000000</td>\n    </tr>\n    <tr>\n      <th>75%</th>\n      <td>2.154482e+06</td>\n      <td>48.000000</td>\n      <td>NaN</td>\n      <td>1.000000</td>\n      <td>3934.000000</td>\n      <td>3721.000000</td>\n      <td>33.280000</td>\n      <td>60.000000</td>\n      <td>132.730000</td>\n      <td>-1.000000</td>\n      <td>...</td>\n      <td>4.000000</td>\n      <td>0.000000</td>\n      <td>0.000000</td>\n      <td>0.000000</td>\n      <td>1000.000000</td>\n      <td>4.000000</td>\n      <td>7815.000000</td>\n      <td>1112.932500</td>\n      <td>530.000000</td>\n      <td>0.000000</td>\n    </tr>\n    <tr>\n      <th>max</th>\n      <td>2.289642e+06</td>\n      <td>70.000000</td>\n      <td>NaN</td>\n      <td>2.000000</td>\n      <td>10632.000000</td>\n      <td>10632.000000</td>\n      <td>53.500000</td>\n      <td>60.000000</td>\n      <td>936.770000</td>\n      <td>8.000000</td>\n      <td>...</td>\n      <td>32.000000</td>\n      <td>18.000000</td>\n      <td>70.000000</td>\n      <td>5778.230000</td>\n      <td>1000.000000</td>\n      <td>26.000000</td>\n      <td>72778.000000</td>\n      <td>22843.419200</td>\n      <td>26791.000000</td>\n      <td>7.000000</td>\n    </tr>\n  </tbody>\n</table>\n<p>8 rows × 33 columns</p>\n</div>"
     },
     "execution_count": 27,
     "metadata": {},
     "output_type": "execute_result"
    }
   ],
   "source": [
    "df.describe()"
   ],
   "metadata": {
    "collapsed": false,
    "pycharm": {
     "name": "#%%\n"
    }
   }
  },
  {
   "cell_type": "code",
   "execution_count": 28,
   "outputs": [],
   "source": [
    "import numpy as np\n",
    "\n",
    "df = df.replace(-1, np.nan)"
   ],
   "metadata": {
    "collapsed": false,
    "pycharm": {
     "name": "#%%\n"
    }
   }
  },
  {
   "cell_type": "code",
   "execution_count": 29,
   "outputs": [
    {
     "data": {
      "text/plain": "         LoanNumber           Age  DateOfBirth        Gender  AppliedAmount  \\\ncount  4.457900e+04  44579.000000          0.0  44579.000000   44579.000000   \nmean   1.683033e+06     39.918572          NaN      0.422508    2573.198524   \nstd    5.526435e+05     12.140008          NaN      0.494236    2358.746295   \nmin    1.358100e+04     18.000000          NaN      0.000000     500.000000   \n25%    1.099910e+06     30.000000          NaN      0.000000     637.000000   \n50%    1.931517e+06     39.000000          NaN      0.000000    1594.000000   \n75%    2.154482e+06     48.000000          NaN      1.000000    3934.000000   \nmax    2.289642e+06     70.000000          NaN      2.000000   10632.000000   \n\n             Amount      Interest  LoanDuration  MonthlyPayment    UseOfLoan  \\\ncount  44579.000000  44579.000000  44579.000000    44553.000000  1367.000000   \nmean    2501.911348     24.888812     50.097692       90.654202     3.594001   \nstd     2302.134121     10.848614     13.657476       81.672325     2.656475   \nmin      116.000000      7.290000      6.000000        0.000000     0.000000   \n25%      635.000000     16.420000     36.000000       25.760000     2.000000   \n50%     1594.000000     22.170000     60.000000       61.260000     2.000000   \n75%     3721.000000     33.280000     60.000000      132.730000     7.000000   \nmax    10632.000000     53.500000     60.000000      936.770000     8.000000   \n\n       ...  ExistingLiabilities  RefinanceLiabilities  DebtToIncome  \\\ncount  ...         44579.000000          44579.000000  44579.000000   \nmean   ...             3.131901              0.019673      1.107728   \nstd    ...             3.325509              0.302892      6.962685   \nmin    ...             0.000000              0.000000      0.000000   \n25%    ...             1.000000              0.000000      0.000000   \n50%    ...             2.000000              0.000000      0.000000   \n75%    ...             4.000000              0.000000      0.000000   \nmax    ...            32.000000             18.000000     70.000000   \n\n           FreeCash  CreditScoreEeMini  NoOfPreviousLoansBeforeLoan  \\\ncount  44579.000000       44535.000000                 44579.000000   \nmean       9.897470         949.985405                     2.565849   \nstd       88.039752         106.005663                     3.202721   \nmin        0.000000         500.000000                     0.000000   \n25%        0.000000        1000.000000                     0.000000   \n50%        0.000000        1000.000000                     1.000000   \n75%        0.000000        1000.000000                     4.000000   \nmax     5778.230000        1000.000000                    26.000000   \n\n       AmountOfPreviousLoansBeforeLoan  PreviousRepaymentsBeforeLoan  \\\ncount                     44579.000000                  29844.000000   \nmean                       4852.456224                   1029.212587   \nstd                        5879.871591                   1703.353032   \nmin                           0.000000                      0.000000   \n25%                           0.000000                    171.750000   \n50%                        2755.000000                    459.125000   \n75%                        7815.000000                   1112.932500   \nmax                       72778.000000                  22843.419200   \n\n       PreviousEarlyRepaymentsBefoleLoan  \\\ncount                        4746.000000   \nmean                          807.174041   \nstd                          2088.615729   \nmin                             0.000000   \n25%                             0.000000   \n50%                             0.000000   \n75%                           530.000000   \nmax                         26791.000000   \n\n       PreviousEarlyRepaymentsCountBeforeLoan  \ncount                            44579.000000  \nmean                                 0.061464  \nstd                                  0.319256  \nmin                                  0.000000  \n25%                                  0.000000  \n50%                                  0.000000  \n75%                                  0.000000  \nmax                                  7.000000  \n\n[8 rows x 33 columns]",
      "text/html": "<div>\n<style scoped>\n    .dataframe tbody tr th:only-of-type {\n        vertical-align: middle;\n    }\n\n    .dataframe tbody tr th {\n        vertical-align: top;\n    }\n\n    .dataframe thead th {\n        text-align: right;\n    }\n</style>\n<table border=\"1\" class=\"dataframe\">\n  <thead>\n    <tr style=\"text-align: right;\">\n      <th></th>\n      <th>LoanNumber</th>\n      <th>Age</th>\n      <th>DateOfBirth</th>\n      <th>Gender</th>\n      <th>AppliedAmount</th>\n      <th>Amount</th>\n      <th>Interest</th>\n      <th>LoanDuration</th>\n      <th>MonthlyPayment</th>\n      <th>UseOfLoan</th>\n      <th>...</th>\n      <th>ExistingLiabilities</th>\n      <th>RefinanceLiabilities</th>\n      <th>DebtToIncome</th>\n      <th>FreeCash</th>\n      <th>CreditScoreEeMini</th>\n      <th>NoOfPreviousLoansBeforeLoan</th>\n      <th>AmountOfPreviousLoansBeforeLoan</th>\n      <th>PreviousRepaymentsBeforeLoan</th>\n      <th>PreviousEarlyRepaymentsBefoleLoan</th>\n      <th>PreviousEarlyRepaymentsCountBeforeLoan</th>\n    </tr>\n  </thead>\n  <tbody>\n    <tr>\n      <th>count</th>\n      <td>4.457900e+04</td>\n      <td>44579.000000</td>\n      <td>0.0</td>\n      <td>44579.000000</td>\n      <td>44579.000000</td>\n      <td>44579.000000</td>\n      <td>44579.000000</td>\n      <td>44579.000000</td>\n      <td>44553.000000</td>\n      <td>1367.000000</td>\n      <td>...</td>\n      <td>44579.000000</td>\n      <td>44579.000000</td>\n      <td>44579.000000</td>\n      <td>44579.000000</td>\n      <td>44535.000000</td>\n      <td>44579.000000</td>\n      <td>44579.000000</td>\n      <td>29844.000000</td>\n      <td>4746.000000</td>\n      <td>44579.000000</td>\n    </tr>\n    <tr>\n      <th>mean</th>\n      <td>1.683033e+06</td>\n      <td>39.918572</td>\n      <td>NaN</td>\n      <td>0.422508</td>\n      <td>2573.198524</td>\n      <td>2501.911348</td>\n      <td>24.888812</td>\n      <td>50.097692</td>\n      <td>90.654202</td>\n      <td>3.594001</td>\n      <td>...</td>\n      <td>3.131901</td>\n      <td>0.019673</td>\n      <td>1.107728</td>\n      <td>9.897470</td>\n      <td>949.985405</td>\n      <td>2.565849</td>\n      <td>4852.456224</td>\n      <td>1029.212587</td>\n      <td>807.174041</td>\n      <td>0.061464</td>\n    </tr>\n    <tr>\n      <th>std</th>\n      <td>5.526435e+05</td>\n      <td>12.140008</td>\n      <td>NaN</td>\n      <td>0.494236</td>\n      <td>2358.746295</td>\n      <td>2302.134121</td>\n      <td>10.848614</td>\n      <td>13.657476</td>\n      <td>81.672325</td>\n      <td>2.656475</td>\n      <td>...</td>\n      <td>3.325509</td>\n      <td>0.302892</td>\n      <td>6.962685</td>\n      <td>88.039752</td>\n      <td>106.005663</td>\n      <td>3.202721</td>\n      <td>5879.871591</td>\n      <td>1703.353032</td>\n      <td>2088.615729</td>\n      <td>0.319256</td>\n    </tr>\n    <tr>\n      <th>min</th>\n      <td>1.358100e+04</td>\n      <td>18.000000</td>\n      <td>NaN</td>\n      <td>0.000000</td>\n      <td>500.000000</td>\n      <td>116.000000</td>\n      <td>7.290000</td>\n      <td>6.000000</td>\n      <td>0.000000</td>\n      <td>0.000000</td>\n      <td>...</td>\n      <td>0.000000</td>\n      <td>0.000000</td>\n      <td>0.000000</td>\n      <td>0.000000</td>\n      <td>500.000000</td>\n      <td>0.000000</td>\n      <td>0.000000</td>\n      <td>0.000000</td>\n      <td>0.000000</td>\n      <td>0.000000</td>\n    </tr>\n    <tr>\n      <th>25%</th>\n      <td>1.099910e+06</td>\n      <td>30.000000</td>\n      <td>NaN</td>\n      <td>0.000000</td>\n      <td>637.000000</td>\n      <td>635.000000</td>\n      <td>16.420000</td>\n      <td>36.000000</td>\n      <td>25.760000</td>\n      <td>2.000000</td>\n      <td>...</td>\n      <td>1.000000</td>\n      <td>0.000000</td>\n      <td>0.000000</td>\n      <td>0.000000</td>\n      <td>1000.000000</td>\n      <td>0.000000</td>\n      <td>0.000000</td>\n      <td>171.750000</td>\n      <td>0.000000</td>\n      <td>0.000000</td>\n    </tr>\n    <tr>\n      <th>50%</th>\n      <td>1.931517e+06</td>\n      <td>39.000000</td>\n      <td>NaN</td>\n      <td>0.000000</td>\n      <td>1594.000000</td>\n      <td>1594.000000</td>\n      <td>22.170000</td>\n      <td>60.000000</td>\n      <td>61.260000</td>\n      <td>2.000000</td>\n      <td>...</td>\n      <td>2.000000</td>\n      <td>0.000000</td>\n      <td>0.000000</td>\n      <td>0.000000</td>\n      <td>1000.000000</td>\n      <td>1.000000</td>\n      <td>2755.000000</td>\n      <td>459.125000</td>\n      <td>0.000000</td>\n      <td>0.000000</td>\n    </tr>\n    <tr>\n      <th>75%</th>\n      <td>2.154482e+06</td>\n      <td>48.000000</td>\n      <td>NaN</td>\n      <td>1.000000</td>\n      <td>3934.000000</td>\n      <td>3721.000000</td>\n      <td>33.280000</td>\n      <td>60.000000</td>\n      <td>132.730000</td>\n      <td>7.000000</td>\n      <td>...</td>\n      <td>4.000000</td>\n      <td>0.000000</td>\n      <td>0.000000</td>\n      <td>0.000000</td>\n      <td>1000.000000</td>\n      <td>4.000000</td>\n      <td>7815.000000</td>\n      <td>1112.932500</td>\n      <td>530.000000</td>\n      <td>0.000000</td>\n    </tr>\n    <tr>\n      <th>max</th>\n      <td>2.289642e+06</td>\n      <td>70.000000</td>\n      <td>NaN</td>\n      <td>2.000000</td>\n      <td>10632.000000</td>\n      <td>10632.000000</td>\n      <td>53.500000</td>\n      <td>60.000000</td>\n      <td>936.770000</td>\n      <td>8.000000</td>\n      <td>...</td>\n      <td>32.000000</td>\n      <td>18.000000</td>\n      <td>70.000000</td>\n      <td>5778.230000</td>\n      <td>1000.000000</td>\n      <td>26.000000</td>\n      <td>72778.000000</td>\n      <td>22843.419200</td>\n      <td>26791.000000</td>\n      <td>7.000000</td>\n    </tr>\n  </tbody>\n</table>\n<p>8 rows × 33 columns</p>\n</div>"
     },
     "execution_count": 29,
     "metadata": {},
     "output_type": "execute_result"
    }
   ],
   "source": [
    "df.describe()"
   ],
   "metadata": {
    "collapsed": false,
    "pycharm": {
     "name": "#%%\n"
    }
   }
  },
  {
   "cell_type": "code",
   "execution_count": 30,
   "outputs": [
    {
     "data": {
      "text/plain": "array([[<AxesSubplot:title={'center':'Age'}>,\n        <AxesSubplot:title={'center':'Education'}>],\n       [<AxesSubplot:title={'center':'MaritalStatus'}>,\n        <AxesSubplot:title={'center':'EmploymentStatus'}>],\n       [<AxesSubplot:title={'center':'OccupationArea'}>,\n        <AxesSubplot:title={'center':'CreditScoreEeMini'}>]], dtype=object)"
     },
     "execution_count": 30,
     "metadata": {},
     "output_type": "execute_result"
    },
    {
     "data": {
      "text/plain": "<Figure size 432x288 with 6 Axes>",
      "image/png": "[encoded data removed]"
     },
     "metadata": {
      "needs_background": "light"
     },
     "output_type": "display_data"
    }
   ],
   "source": [
    "zero_replacements = ['Age', 'Education', 'MaritalStatus', 'EmploymentStatus', 'OccupationArea', 'CreditScoreEeMini']\n",
    "df[zero_replacements] = df[zero_replacements].replace(0.0, np.nan)\n",
    "df[zero_replacements].hist()"
   ],
   "metadata": {
    "collapsed": false,
    "pycharm": {
     "name": "#%%\n"
    }
   }
  },
  {
   "cell_type": "code",
   "execution_count": 31,
   "outputs": [],
   "source": [
    "value_replacements = {'UseOfLoan': {0: 'Loan_consolidation', 1: 'Real_estate', 2: 'Home_improvement', 3: 'Business',\n",
    "                                        4: 'Education', 5: 'Travel', 6: 'Vehicle', 7: 'Other', 8: 'Health',\n",
    "                                        101: 'Working_capital_financing', 102: 'Purchase_of_machinery_equipment',\n",
    "                                        103: 'Renovation_of_real_estate', 104: 'Accounts_receivable_financing ',\n",
    "                                        105: 'Acquisition_of_means_of_transport', 106: 'Construction_finance',\n",
    "                                        107: 'Acquisition_of_stocks', 108: 'Acquisition_of_real_estate',\n",
    "                                        109: 'Guaranteeing_obligation ', 110: 'Other_business'\n",
    "                                        },\n",
    "                          'Education': {1: 'Primary', 2: \"Basic\", 3: \"Vocational\", 4: \"Secondary\", 5: \"Higher\"},\n",
    "                          'MaritalStatus': {1: 'Married', 2: 'Cohabitant', 3: 'Single', 4: 'Divorced', 5: 'Widow'},\n",
    "                          'EmploymentStatus': {1: 'Unemployed', 2: 'Partially', 3: 'Fully', 4: 'Self_employed',\n",
    "                                               5: 'Entrepreneur', 6: 'Retiree'},\n",
    "                          'NewCreditCustomer': {0: 'Existing_credit_customer', 1: 'New_credit_Customer'},\n",
    "                          'OccupationArea': {1: 'Other', 2: 'Mining', 3: 'Processing', 4: 'Energy', 5: 'Utilities',\n",
    "                                             6: 'Construction', 7: 'Retail_and_wholesale',\n",
    "                                             8: 'Transport_and_warehousing',\n",
    "                                             9: 'Hospitality_and_catering', 10: 'Info_and_telecom',\n",
    "                                             11: 'Finance_and_insurance', 12: 'Real_estate', 13: 'Research',\n",
    "                                             14: 'Administrative', 15: 'Civil_service_and_military',\n",
    "                                             16: 'Education', 17: 'Healthcare_and_social_help',\n",
    "                                             18: 'Art_and_entertainment', 19: 'Agriculture_forestry_and_fishing'},\n",
    "                          'HomeOwnershipType': {0: 'Homeless', 1: 'Owner', 2: 'Living_with_parents',\n",
    "                                                3: 'Tenant_pre_furnished_property', 4: 'Tenant_unfurnished_property',\n",
    "                                                5: 'Council_house', 6: 'Joint_tenant', 7: 'Joint_ownership',\n",
    "                                                8: 'Mortgage',\n",
    "                                                9: 'Owner_with_encumbrance', 10: 'Other'},\n",
    "                          'NrOfDependants': {'10Plus': 11},\n",
    "                          'Gender': {0: 'Male', 1: \"Female\", 2: \"Unknown\"}\n",
    "                          }\n",
    "df = df.replace(value_replacements)"
   ],
   "metadata": {
    "collapsed": false,
    "pycharm": {
     "name": "#%%\n"
    }
   }
  },
  {
   "cell_type": "code",
   "execution_count": 32,
   "outputs": [],
   "source": [
    "df[\"Defaulted\"] = df['DefaultDate'].apply(lambda x: 0 if pd.isnull(x) else 1)\n",
    "df[\"PaidLoan\"] = df[\"Defaulted\"].replace({0: 1, 1: 0})\n",
    "df[\"LoanStatus\"] = df[\"PaidLoan\"].apply(lambda x: 'Paid back' if x == 1 else 'Defaulted')\n",
    "df[\"AgeGroup\"] = df[\"Age\"].apply(lambda x: \"Under 40\" if x < 40 else \"Over 40\")"
   ],
   "metadata": {
    "collapsed": false,
    "pycharm": {
     "name": "#%%\n"
    }
   }
  },
  {
   "cell_type": "code",
   "execution_count": 33,
   "outputs": [
    {
     "name": "stderr",
     "output_type": "stream",
     "text": [
      "<ipython-input-33-03c5f5ced90e>:3: FutureWarning: Treating datetime data as categorical rather than numeric in `.describe` is deprecated and will be removed in a future version of pandas. Specify `datetime_is_numeric=True` to silence this warning and adopt the future behavior now.\n",
      "  df[\"ListedOnUTC\"].describe()\n"
     ]
    },
    {
     "data": {
      "text/plain": "count                   44579\nunique                  44536\ntop       2020-10-30 16:02:07\nfreq                        3\nfirst     2012-10-31 11:02:11\nlast      2021-06-24 21:09:39\nName: ListedOnUTC, dtype: object"
     },
     "execution_count": 33,
     "metadata": {},
     "output_type": "execute_result"
    }
   ],
   "source": [
    "df[\"ListedOnUTC\"] = pd.to_datetime(df['ListedOnUTC'])\n",
    "df[\"ListedOnUTC\"].describe()"
   ],
   "metadata": {
    "collapsed": false,
    "pycharm": {
     "name": "#%%\n"
    }
   }
  },
  {
   "cell_type": "code",
   "execution_count": 34,
   "outputs": [
    {
     "name": "stderr",
     "output_type": "stream",
     "text": [
      "<ipython-input-34-db4bd48889f5>:2: FutureWarning: Treating datetime data as categorical rather than numeric in `.describe` is deprecated and will be removed in a future version of pandas. Specify `datetime_is_numeric=True` to silence this warning and adopt the future behavior now.\n",
      "  df[\"LoanDate\"].describe()\n"
     ]
    },
    {
     "data": {
      "text/plain": "count                   44579\nunique                   2099\ntop       2021-06-18 00:00:00\nfreq                      165\nfirst     2012-11-05 00:00:00\nlast      2021-06-25 00:00:00\nName: LoanDate, dtype: object"
     },
     "execution_count": 34,
     "metadata": {},
     "output_type": "execute_result"
    }
   ],
   "source": [
    "df[\"LoanDate\"] = pd.to_datetime(df['LoanDate'])\n",
    "df[\"LoanDate\"].describe()"
   ],
   "metadata": {
    "collapsed": false,
    "pycharm": {
     "name": "#%%\n"
    }
   }
  },
  {
   "cell_type": "code",
   "execution_count": 35,
   "outputs": [
    {
     "name": "stderr",
     "output_type": "stream",
     "text": [
      "<ipython-input-35-ca4f040bc511>:2: FutureWarning: Treating datetime data as categorical rather than numeric in `.describe` is deprecated and will be removed in a future version of pandas. Specify `datetime_is_numeric=True` to silence this warning and adopt the future behavior now.\n",
      "  df[\"MaturityDate_Original\"].describe()\n"
     ]
    },
    {
     "data": {
      "text/plain": "count                   44579\nunique                   1593\ntop       2026-04-13 00:00:00\nfreq                      604\nfirst     2015-02-16 00:00:00\nlast      2026-06-25 00:00:00\nName: MaturityDate_Original, dtype: object"
     },
     "execution_count": 35,
     "metadata": {},
     "output_type": "execute_result"
    }
   ],
   "source": [
    "df[\"MaturityDate_Original\"] = pd.to_datetime(df['MaturityDate_Original'])\n",
    "df[\"MaturityDate_Original\"].describe()"
   ],
   "metadata": {
    "collapsed": false,
    "pycharm": {
     "name": "#%%\n"
    }
   }
  },
  {
   "cell_type": "code",
   "execution_count": 36,
   "outputs": [
    {
     "name": "stderr",
     "output_type": "stream",
     "text": [
      "<ipython-input-36-ee51d9866628>:2: FutureWarning: Treating datetime data as categorical rather than numeric in `.describe` is deprecated and will be removed in a future version of pandas. Specify `datetime_is_numeric=True` to silence this warning and adopt the future behavior now.\n",
      "  df[\"MaturityDate_Last\"].describe()\n"
     ]
    },
    {
     "data": {
      "text/plain": "count                   44579\nunique                   1287\ntop       2026-04-13 00:00:00\nfreq                      637\nfirst     2020-03-06 00:00:00\nlast      2027-06-28 00:00:00\nName: MaturityDate_Last, dtype: object"
     },
     "execution_count": 36,
     "metadata": {},
     "output_type": "execute_result"
    }
   ],
   "source": [
    "df[\"MaturityDate_Last\"] = pd.to_datetime(df['MaturityDate_Last'])\n",
    "df[\"MaturityDate_Last\"].describe()"
   ],
   "metadata": {
    "collapsed": false,
    "pycharm": {
     "name": "#%%\n"
    }
   }
  },
  {
   "cell_type": "code",
   "execution_count": 37,
   "outputs": [
    {
     "data": {
      "text/plain": "count       0\nunique      0\ntop       NaN\nfreq      NaN\nName: DateOfBirth, dtype: object"
     },
     "execution_count": 37,
     "metadata": {},
     "output_type": "execute_result"
    }
   ],
   "source": [
    "df[\"DateOfBirth\"] = pd.to_datetime(df['DateOfBirth'])\n",
    "df[\"DateOfBirth\"].describe()"
   ],
   "metadata": {
    "collapsed": false,
    "pycharm": {
     "name": "#%%\n"
    }
   }
  },
  {
   "cell_type": "code",
   "execution_count": 38,
   "outputs": [
    {
     "name": "stderr",
     "output_type": "stream",
     "text": [
      "<ipython-input-38-68fec770f244>:2: FutureWarning: Treating datetime data as categorical rather than numeric in `.describe` is deprecated and will be removed in a future version of pandas. Specify `datetime_is_numeric=True` to silence this warning and adopt the future behavior now.\n",
      "  df[\"DefaultDate\"].describe()\n"
     ]
    },
    {
     "data": {
      "text/plain": "count                      30\nunique                     20\ntop       2021-04-16 00:00:00\nfreq                        6\nfirst     2015-04-06 00:00:00\nlast      2021-04-16 00:00:00\nName: DefaultDate, dtype: object"
     },
     "execution_count": 38,
     "metadata": {},
     "output_type": "execute_result"
    }
   ],
   "source": [
    "df[\"DefaultDate\"] = pd.to_datetime(df['DefaultDate'])\n",
    "df[\"DefaultDate\"].describe()\n"
   ],
   "metadata": {
    "collapsed": false,
    "pycharm": {
     "name": "#%%\n"
    }
   }
  },
  {
   "cell_type": "code",
   "execution_count": 39,
   "outputs": [
    {
     "data": {
      "text/plain": "<AxesSubplot:>"
     },
     "execution_count": 39,
     "metadata": {},
     "output_type": "execute_result"
    },
    {
     "data": {
      "text/plain": "<Figure size 432x288 with 1 Axes>",
      "image/png": "[encoded data removed]"
     },
     "metadata": {
      "needs_background": "light"
     },
     "output_type": "display_data"
    }
   ],
   "source": [
    "df[\"LoanDuration\"] = pd.to_numeric(df[\"LoanDuration\"])\n",
    "df[\"LoanDuration\"].hist()\n"
   ],
   "metadata": {
    "collapsed": false,
    "pycharm": {
     "name": "#%%\n"
    }
   }
  },
  {
   "cell_type": "code",
   "execution_count": 40,
   "outputs": [
    {
     "data": {
      "text/plain": "<AxesSubplot:>"
     },
     "execution_count": 40,
     "metadata": {},
     "output_type": "execute_result"
    },
    {
     "data": {
      "text/plain": "<Figure size 432x288 with 1 Axes>",
      "image/png": "[encoded data removed]"
     },
     "metadata": {
      "needs_background": "light"
     },
     "output_type": "display_data"
    }
   ],
   "source": [
    "df[\"NrOfDependants\"] = pd.to_numeric(df[\"NrOfDependants\"])\n",
    "df[\"NrOfDependants\"].hist()\n"
   ],
   "metadata": {
    "collapsed": false,
    "pycharm": {
     "name": "#%%\n"
    }
   }
  },
  {
   "cell_type": "code",
   "execution_count": 41,
   "outputs": [
    {
     "data": {
      "text/plain": "count      44579\nunique         7\ntop       1000.0\nfreq       34565\nName: CreditScoreEeMini, dtype: object"
     },
     "execution_count": 41,
     "metadata": {},
     "output_type": "execute_result"
    }
   ],
   "source": [
    "df['CreditScoreEeMini'] = df['CreditScoreEeMini'].astype(str)\n",
    "df['CreditScoreEeMini'].describe()"
   ],
   "metadata": {
    "collapsed": false,
    "pycharm": {
     "name": "#%%\n"
    }
   }
  },
  {
   "cell_type": "code",
   "execution_count": 42,
   "outputs": [
    {
     "data": {
      "text/plain": "count     44579\nunique        2\ntop       False\nfreq      44549\nName: Defaulted, dtype: object"
     },
     "execution_count": 42,
     "metadata": {},
     "output_type": "execute_result"
    }
   ],
   "source": [
    "df['Defaulted'] = df['Defaulted'].astype(bool)\n",
    "df['Defaulted'].describe()"
   ],
   "metadata": {
    "collapsed": false,
    "pycharm": {
     "name": "#%%\n"
    }
   }
  },
  {
   "cell_type": "code",
   "execution_count": 43,
   "outputs": [
    {
     "data": {
      "text/plain": "count     44579\nunique        2\ntop        True\nfreq      44549\nName: PaidLoan, dtype: object"
     },
     "execution_count": 43,
     "metadata": {},
     "output_type": "execute_result"
    }
   ],
   "source": [
    "df['PaidLoan'] = df['PaidLoan'].astype(bool)\n",
    "df['PaidLoan'].describe()"
   ],
   "metadata": {
    "collapsed": false,
    "pycharm": {
     "name": "#%%\n"
    }
   }
  },
  {
   "cell_type": "code",
   "execution_count": null,
   "outputs": [],
   "source": [],
   "metadata": {
    "collapsed": false,
    "pycharm": {
     "name": "#%%\n"
    }
   }
  }
 ],
 "metadata": {
  "kernelspec": {
   "name": "benchmark-models",
   "language": "python",
   "display_name": "benchmark-models"
  },
  "language_info": {
   "codemirror_mode": {
    "name": "ipython",
    "version": 2
   },
   "file_extension": ".py",
   "mimetype": "text/x-python",
   "name": "python",
   "nbconvert_exporter": "python",
   "pygments_lexer": "ipython2",
   "version": "2.7.6"
  }
 },
 "nbformat": 4,
 "nbformat_minor": 0
}